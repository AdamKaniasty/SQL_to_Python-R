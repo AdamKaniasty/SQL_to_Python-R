{
 "cells": [
  {
   "cell_type": "markdown",
   "id": "e950614d-2aa8-4939-a3d9-87cae7c58ed2",
   "metadata": {},
   "source": [
    "## TASK 3"
   ]
  },
  {
   "cell_type": "code",
   "execution_count": 14,
   "id": "cc6164d5-c42a-4a2c-b3a0-47b08b375ef8",
   "metadata": {},
   "outputs": [],
   "source": [
    "source(\"./Imports.R\")"
   ]
  },
  {
   "cell_type": "markdown",
   "id": "49ec5d2e-165e-4e76-995e-e164c935ae0b",
   "metadata": {},
   "source": [
    "## Description\n",
    "Select 3 columns: Id, DisplayName, TotalViews from given Questions table:  \n",
    "&nbsp;&nbsp;&nbsp;&nbsp;&nbsp;&nbsp;OwnerUserId, TotalViews from table Posts  \n",
    "&nbsp;&nbsp;&nbsp;&nbsp;&nbsp;&nbsp;TotalViews: sum of ViewCount  \n",
    "&nbsp;&nbsp;&nbsp;&nbsp;&nbsp;&nbsp;Takes only Posts where PostIdType is 1  \n",
    "&nbsp;&nbsp;&nbsp;&nbsp;&nbsp;&nbsp;Groups the output by OwnerUsedId  \n",
    "Joins Questions table and Users table by user id  \n",
    "Sorts the data by TotalViews (Descending)  \n",
    "Takes first 10 outputs  \n",
    "\n",
    "### Effectively returns top 10 Users with highest view count on posts with category 1"
   ]
  },
  {
   "cell_type": "code",
   "execution_count": 15,
   "id": "6ed1fdad-9e85-419b-8ec5-149d194f8486",
   "metadata": {},
   "outputs": [],
   "source": [
    "sql_3 <- function(Posts,Users){\n",
    "    sqldf(\"SELECT Id, DisplayName, TotalViews\n",
    "        FROM (\n",
    "            SELECT OwnerUserId, SUM(ViewCount) as TotalViews\n",
    "            FROM Posts\n",
    "            WHERE PostTypeId = 1\n",
    "            GROUP BY OwnerUserId\n",
    "            ) AS Questions\n",
    "        JOIN Users\n",
    "        ON Users.Id = Questions.OwnerUserId\n",
    "        ORDER BY TotalViews DESC\n",
    "        LIMIT 10\")\n",
    "}"
   ]
  },
  {
   "cell_type": "code",
   "execution_count": 16,
   "id": "b223416e-03f9-42e6-8c2d-1bf5c38b99f3",
   "metadata": {},
   "outputs": [],
   "source": [
    "base_3 <- function(Posts,Users){\n",
    "    posts_with_filtered_id <- subset(Posts, PostTypeId == 1)\n",
    "    posts_with_selected_fields <- posts_with_filtered_id[,c(\"OwnerUserId\",\"ViewCount\")]\n",
    "    posts_agg <- aggregate(posts_with_selected_fields$ViewCount, \n",
    "                             by = list(posts_with_selected_fields$OwnerUserId), \n",
    "                             FUN = sum)\n",
    "    colnames(posts_agg) <- c(\"Id\", \"TotalViews\")\n",
    "    df_joined <- merge(posts_agg, Users, by = \"Id\")\n",
    "    df_with_selected_fields <- df_joined[,c(\"Id\",\"DisplayName\",\"TotalViews\")]\n",
    "    df_ordered = df_with_selected_fields[order(df_with_selected_fields$TotalViews, decreasing = TRUE),]\n",
    "    return(head(df_ordered,10))\n",
    "}"
   ]
  },
  {
   "cell_type": "code",
   "execution_count": 17,
   "id": "24f46f74-f85d-47bb-9706-3a3797d811ee",
   "metadata": {},
   "outputs": [],
   "source": [
    "dplyr_3 <- function(Posts,Users){\n",
    "    as.data.frame(\n",
    "        Posts %>%\n",
    "            filter(PostTypeId == 1) %>%\n",
    "            group_by(OwnerUserId) %>%\n",
    "            summarise(TotalViews = sum(ViewCount)) %>%\n",
    "            inner_join(Users, by = c(\"OwnerUserId\" = \"Id\")) %>%\n",
    "            select(OwnerUserId, DisplayName, TotalViews) %>%\n",
    "            arrange(desc(TotalViews)) %>%\n",
    "            head(10) %>%\n",
    "            rename(\"Id\" = \"OwnerUserId\")\n",
    "    )\n",
    "}"
   ]
  },
  {
   "cell_type": "code",
   "execution_count": 18,
   "id": "b54b0b94-3e8b-4251-8709-ec5ecc823203",
   "metadata": {},
   "outputs": [],
   "source": [
    "table_3 <- function(Posts,Users){\n",
    "    setDT(Posts)\n",
    "    setDT(Users)\n",
    "    posts_filtered <- Posts[PostTypeId == 1, \n",
    "                            .(TotalViews = sum(ViewCount)),\n",
    "                            by = OwnerUserId]\n",
    "    joined <- merge(Users, posts_filtered, by.x = \"Id\", by.y = \"OwnerUserId\")\n",
    "    return(as.data.frame(joined[, \n",
    "                            .(Id, DisplayName, TotalViews)][order(-TotalViews)][1:10]))\n",
    "}"
   ]
  },
  {
   "cell_type": "code",
   "execution_count": 19,
   "id": "22fdad37-af92-40a3-abe1-bb608b2151ea",
   "metadata": {},
   "outputs": [
    {
     "name": "stdout",
     "output_type": "stream",
     "text": [
      "[1] \"COMPARING GIVEN OUTPUTS TO SQL ONE: \"\n",
      "[1] \"BASE: TRUE\"\n",
      "[1] \"DPLYR: TRUE\"\n",
      "[1] \"TABLE: TRUE\"\n"
     ]
    }
   ],
   "source": [
    "comp(\n",
    "    sql_3(Posts,Users),\n",
    "    base_3(Posts, Users),\n",
    "    dplyr_3(Posts, Users),\n",
    "    table_3(Posts, Users)\n",
    ")"
   ]
  },
  {
   "cell_type": "code",
   "execution_count": 20,
   "id": "8ead173b-50e0-466b-9c37-fda825b63a83",
   "metadata": {},
   "outputs": [
    {
     "data": {
      "text/html": [
       "<table class=\"dataframe\">\n",
       "<caption>A data.frame: 10 × 3</caption>\n",
       "<thead>\n",
       "\t<tr><th scope=col>Id</th><th scope=col>DisplayName</th><th scope=col>TotalViews</th></tr>\n",
       "\t<tr><th scope=col>&lt;int&gt;</th><th scope=col>&lt;chr&gt;</th><th scope=col>&lt;int&gt;</th></tr>\n",
       "</thead>\n",
       "<tbody>\n",
       "\t<tr><td>  101</td><td>Mark Mayo         </td><td>2151776</td></tr>\n",
       "\t<tr><td> 9009</td><td>JonathanReez      </td><td>1941733</td></tr>\n",
       "\t<tr><td>  693</td><td>RoflcoptrException</td><td>1865428</td></tr>\n",
       "\t<tr><td>  140</td><td>hippietrail       </td><td>1849585</td></tr>\n",
       "\t<tr><td>   26</td><td>Gagravarr         </td><td>1536327</td></tr>\n",
       "\t<tr><td> 3736</td><td>nsn               </td><td>1148040</td></tr>\n",
       "\t<tr><td>  396</td><td>jrdioko           </td><td> 983986</td></tr>\n",
       "\t<tr><td>10051</td><td>Nean Der Thal     </td><td> 894454</td></tr>\n",
       "\t<tr><td>  583</td><td>Jonik             </td><td> 855538</td></tr>\n",
       "\t<tr><td> 1893</td><td>lambshaanxy       </td><td> 850706</td></tr>\n",
       "</tbody>\n",
       "</table>\n"
      ],
      "text/latex": [
       "A data.frame: 10 × 3\n",
       "\\begin{tabular}{lll}\n",
       " Id & DisplayName & TotalViews\\\\\n",
       " <int> & <chr> & <int>\\\\\n",
       "\\hline\n",
       "\t   101 & Mark Mayo          & 2151776\\\\\n",
       "\t  9009 & JonathanReez       & 1941733\\\\\n",
       "\t   693 & RoflcoptrException & 1865428\\\\\n",
       "\t   140 & hippietrail        & 1849585\\\\\n",
       "\t    26 & Gagravarr          & 1536327\\\\\n",
       "\t  3736 & nsn                & 1148040\\\\\n",
       "\t   396 & jrdioko            &  983986\\\\\n",
       "\t 10051 & Nean Der Thal      &  894454\\\\\n",
       "\t   583 & Jonik              &  855538\\\\\n",
       "\t  1893 & lambshaanxy        &  850706\\\\\n",
       "\\end{tabular}\n"
      ],
      "text/markdown": [
       "\n",
       "A data.frame: 10 × 3\n",
       "\n",
       "| Id &lt;int&gt; | DisplayName &lt;chr&gt; | TotalViews &lt;int&gt; |\n",
       "|---|---|---|\n",
       "|   101 | Mark Mayo          | 2151776 |\n",
       "|  9009 | JonathanReez       | 1941733 |\n",
       "|   693 | RoflcoptrException | 1865428 |\n",
       "|   140 | hippietrail        | 1849585 |\n",
       "|    26 | Gagravarr          | 1536327 |\n",
       "|  3736 | nsn                | 1148040 |\n",
       "|   396 | jrdioko            |  983986 |\n",
       "| 10051 | Nean Der Thal      |  894454 |\n",
       "|   583 | Jonik              |  855538 |\n",
       "|  1893 | lambshaanxy        |  850706 |\n",
       "\n"
      ],
      "text/plain": [
       "   Id    DisplayName        TotalViews\n",
       "1    101 Mark Mayo          2151776   \n",
       "2   9009 JonathanReez       1941733   \n",
       "3    693 RoflcoptrException 1865428   \n",
       "4    140 hippietrail        1849585   \n",
       "5     26 Gagravarr          1536327   \n",
       "6   3736 nsn                1148040   \n",
       "7    396 jrdioko             983986   \n",
       "8  10051 Nean Der Thal       894454   \n",
       "9    583 Jonik               855538   \n",
       "10  1893 lambshaanxy         850706   "
      ]
     },
     "metadata": {},
     "output_type": "display_data"
    }
   ],
   "source": [
    "table_3(Posts, Users)"
   ]
  },
  {
   "cell_type": "code",
   "execution_count": null,
   "id": "a97014d2-f81e-4132-9c49-7ee301166556",
   "metadata": {},
   "outputs": [],
   "source": []
  }
 ],
 "metadata": {
  "kernelspec": {
   "display_name": "R",
   "language": "R",
   "name": "ir"
  },
  "language_info": {
   "codemirror_mode": "r",
   "file_extension": ".r",
   "mimetype": "text/x-r-source",
   "name": "R",
   "pygments_lexer": "r",
   "version": "4.1.2"
  }
 },
 "nbformat": 4,
 "nbformat_minor": 5
}
