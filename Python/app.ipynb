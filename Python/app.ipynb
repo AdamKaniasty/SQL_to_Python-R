{
 "cells": [
  {
   "cell_type": "code",
   "execution_count": 6,
   "metadata": {
    "ExecuteTime": {
     "start_time": "2023-06-03T16:25:52.061486Z",
     "end_time": "2023-06-03T16:25:52.622560Z"
    },
    "collapsed": true,
    "jupyter": {
     "outputs_hidden": true
    },
    "tags": []
   },
   "outputs": [],
   "source": [
    "import pandas\n",
    "import pandas as pd\n",
    "import sqlite3\n",
    "\n",
    "DATA_PATH = \"../Data/\""
   ]
  },
  {
   "cell_type": "markdown",
   "metadata": {},
   "source": [
    "# Load data to sqlite"
   ]
  },
  {
   "cell_type": "code",
   "execution_count": 7,
   "metadata": {
    "ExecuteTime": {
     "start_time": "2023-06-03T16:25:53.818163Z",
     "end_time": "2023-06-03T16:25:56.928855Z"
    },
    "collapsed": false,
    "jupyter": {
     "outputs_hidden": false
    },
    "tags": []
   },
   "outputs": [],
   "source": [
    "posts = pd.read_csv(DATA_PATH + \"Posts.csv.gz\", compression = 'gzip')\n",
    "comments = pd.read_csv(DATA_PATH + \"Comments.csv.gz\", compression = 'gzip')\n",
    "users = pd.read_csv(DATA_PATH + \"Users.csv.gz\", compression = 'gzip')\n"
   ]
  },
  {
   "cell_type": "code",
   "execution_count": 8,
   "metadata": {
    "ExecuteTime": {
     "start_time": "2023-06-03T16:25:56.932841Z",
     "end_time": "2023-06-03T16:25:56.946827Z"
    },
    "collapsed": false,
    "jupyter": {
     "outputs_hidden": false
    },
    "tags": []
   },
   "outputs": [
    {
     "name": "stdout",
     "output_type": "stream",
     "text": [
      "Data already loaded\n"
     ]
    }
   ],
   "source": [
    "db = \"database.db\"\n",
    "conn = sqlite3.connect(db)\n",
    "try:\n",
    "    comments.to_sql(\"Comments\", conn)\n",
    "    posts.to_sql(\"Posts\", conn)\n",
    "    users.to_sql(\"Users\", conn)\n",
    "except ValueError:\n",
    "    print(\"Data already loaded\")"
   ]
  },
  {
   "cell_type": "markdown",
   "metadata": {},
   "source": [
    "# Create comparator func"
   ]
  },
  {
   "cell_type": "code",
   "execution_count": 9,
   "metadata": {
    "ExecuteTime": {
     "start_time": "2023-06-03T16:25:56.948680Z",
     "end_time": "2023-06-03T16:25:56.988826Z"
    },
    "collapsed": false,
    "jupyter": {
     "outputs_hidden": false
    },
    "tags": []
   },
   "outputs": [],
   "source": [
    "def comparator(df1,df2):\n",
    "    assert type(df1) == pd.DataFrame\n",
    "    assert type(df2) == pd.DataFrame\n",
    "    eq = df1.equals(df2)\n",
    "    if eq:\n",
    "        print(\"Dataframes are equal\")\n",
    "    else:\n",
    "        print(\"Dataframes are not equal\")"
   ]
  },
  {
   "cell_type": "markdown",
   "metadata": {
    "jp-MarkdownHeadingCollapsed": true,
    "tags": []
   },
   "source": [
    "# Task 1"
   ]
  },
  {
   "cell_type": "code",
   "execution_count": 5,
   "metadata": {
    "ExecuteTime": {
     "start_time": "2023-06-03T16:06:44.937445Z",
     "end_time": "2023-06-03T16:06:45.020442Z"
    },
    "collapsed": false,
    "jupyter": {
     "outputs_hidden": false
    },
    "tags": []
   },
   "outputs": [],
   "source": [
    "query = '''\n",
    "SELECT Location, SUM(UpVotes) as TotalUpVotes\n",
    "FROM Users\n",
    "WHERE Location != ''\n",
    "GROUP BY Location\n",
    "ORDER BY TotalUpVotes DESC\n",
    "LIMIT 10\n",
    "'''\n",
    "sql_res = pd.read_sql_query(query, conn)"
   ]
  },
  {
   "cell_type": "code",
   "execution_count": 6,
   "metadata": {
    "ExecuteTime": {
     "start_time": "2023-06-03T16:06:45.019443Z",
     "end_time": "2023-06-03T16:06:45.059443Z"
    },
    "collapsed": false,
    "jupyter": {
     "outputs_hidden": false
    },
    "tags": []
   },
   "outputs": [],
   "source": [
    "users_non_null_location = users[users['Location'] != '']\n",
    "p_res_unsorted = users_non_null_location.groupby('Location')['UpVotes'].sum()\n",
    "p_res = p_res_unsorted.sort_values(ascending=False).head(10).to_frame().reset_index()\n",
    "p_res.rename(columns={'UpVotes': 'TotalUpVotes'}, inplace=True)"
   ]
  },
  {
   "cell_type": "code",
   "execution_count": 7,
   "metadata": {
    "ExecuteTime": {
     "start_time": "2023-06-03T16:06:45.048441Z",
     "end_time": "2023-06-03T16:06:45.065858Z"
    },
    "collapsed": false,
    "jupyter": {
     "outputs_hidden": false
    },
    "tags": []
   },
   "outputs": [
    {
     "name": "stdout",
     "output_type": "stream",
     "text": [
      "Dataframes are equal\n"
     ]
    }
   ],
   "source": [
    "comparator(sql_res, p_res)"
   ]
  },
  {
   "cell_type": "markdown",
   "metadata": {
    "jp-MarkdownHeadingCollapsed": true,
    "tags": []
   },
   "source": [
    "# Task 2"
   ]
  },
  {
   "cell_type": "code",
   "execution_count": 8,
   "metadata": {
    "ExecuteTime": {
     "start_time": "2023-06-03T14:57:57.987680Z",
     "end_time": "2023-06-03T14:57:58.251009Z"
    },
    "collapsed": false,
    "jupyter": {
     "outputs_hidden": false
    },
    "tags": []
   },
   "outputs": [],
   "source": [
    "query = '''\n",
    "SELECT STRFTIME('%Y', CreationDate) AS Year, STRFTIME('%m', CreationDate) AS Month,\n",
    "COUNT(*) AS PostsNumber, MAX(Score) AS MaxScore\n",
    "FROM Posts\n",
    "WHERE PostTypeId IN (1, 2)\n",
    "GROUP BY Year, Month\n",
    "HAVING PostsNumber > 1000\n",
    "'''\n",
    "sql_res = pd.read_sql_query(query, conn)"
   ]
  },
  {
   "cell_type": "code",
   "execution_count": 9,
   "metadata": {
    "ExecuteTime": {
     "start_time": "2023-06-03T14:57:58.257009Z",
     "end_time": "2023-06-03T14:57:58.347011Z"
    },
    "collapsed": false,
    "jupyter": {
     "outputs_hidden": false
    },
    "tags": []
   },
   "outputs": [],
   "source": [
    "filtered_posts = posts.loc[posts['PostTypeId'].isin([1, 2])].copy()\n",
    "filtered_posts['Year'] = filtered_posts['CreationDate'].apply(lambda x: x[:4])\n",
    "filtered_posts['Month'] = filtered_posts['CreationDate'].apply(lambda x: x[5:7])\n",
    "grouped = filtered_posts.groupby(['Year', 'Month']).agg(\n",
    "    PostsNumber=('Id', 'count'), MaxScore=('Score', 'max'))\n",
    "\n",
    "p_res = grouped[grouped['PostsNumber'] > 1000].reset_index()"
   ]
  },
  {
   "cell_type": "code",
   "execution_count": 10,
   "metadata": {
    "ExecuteTime": {
     "start_time": "2023-06-03T14:57:58.350009Z",
     "end_time": "2023-06-03T14:57:58.364008Z"
    },
    "collapsed": false,
    "jupyter": {
     "outputs_hidden": false
    },
    "tags": []
   },
   "outputs": [
    {
     "name": "stdout",
     "output_type": "stream",
     "text": [
      "Dataframes are equal\n"
     ]
    }
   ],
   "source": [
    "comparator(sql_res, p_res)"
   ]
  },
  {
   "cell_type": "markdown",
   "metadata": {},
   "source": [
    "# Task 3"
   ]
  },
  {
   "cell_type": "code",
   "execution_count": null,
   "metadata": {
    "ExecuteTime": {
     "start_time": "2023-06-03T14:41:03.849544Z",
     "end_time": "2023-06-03T14:48:03.279213Z"
    },
    "collapsed": false,
    "jupyter": {
     "outputs_hidden": false
    },
    "tags": []
   },
   "outputs": [],
   "source": [
    "query = '''\n",
    "SELECT Id, DisplayName, TotalViews\n",
    "FROM (\n",
    "SELECT OwnerUserId, SUM(ViewCount) as TotalViews\n",
    "FROM Posts\n",
    "WHERE PostTypeId = 1\n",
    "GROUP BY OwnerUserId\n",
    ") AS Questions\n",
    "JOIN Users\n",
    "ON Users.Id = Questions.OwnerUserId\n",
    "ORDER BY TotalViews DESC\n",
    "LIMIT 10\n",
    "'''\n",
    "sql_res = pd.read_sql_query(query, conn)"
   ]
  },
  {
   "cell_type": "code",
   "execution_count": 29,
   "outputs": [],
   "source": [
    "questions = posts[posts[\"PostTypeId\"] == 1].groupby(\"OwnerUserId\").agg({\"ViewCount\": \"sum\"}).reset_index()\n",
    "questions.columns = [\"Id\", \"TotalViews\"]\n",
    "\n",
    "merged = users.merge(questions, on=\"Id\").sort_values(\"TotalViews\", ascending=False).head(10)\n",
    "p_res = merged[[\"Id\", \"DisplayName\", \"TotalViews\"]]\n",
    "p_res.reset_index(drop=True, inplace=True)"
   ],
   "metadata": {
    "collapsed": false,
    "ExecuteTime": {
     "start_time": "2023-06-03T14:56:41.345757Z",
     "end_time": "2023-06-03T14:56:41.429810Z"
    }
   }
  },
  {
   "cell_type": "code",
   "execution_count": 31,
   "outputs": [
    {
     "name": "stdout",
     "output_type": "stream",
     "text": [
      "Dataframes are equal\n"
     ]
    }
   ],
   "source": [
    "comparator(sql_res, p_res)"
   ],
   "metadata": {
    "collapsed": false,
    "ExecuteTime": {
     "start_time": "2023-06-03T14:56:43.635644Z",
     "end_time": "2023-06-03T14:56:43.682750Z"
    }
   }
  },
  {
   "cell_type": "markdown",
   "metadata": {},
   "source": [
    "# Task 4"
   ]
  },
  {
   "cell_type": "code",
   "execution_count": 8,
   "metadata": {
    "ExecuteTime": {
     "start_time": "2023-06-03T16:06:45.068444Z",
     "end_time": "2023-06-03T16:06:45.663012Z"
    },
    "collapsed": false,
    "jupyter": {
     "outputs_hidden": false
    }
   },
   "outputs": [],
   "source": [
    "query = '''\n",
    "SELECT DisplayName, QuestionsNumber, AnswersNumber, Location, Reputation, UpVotes, DownVotes\n",
    "FROM (\n",
    "SELECT *\n",
    "FROM (\n",
    "SELECT COUNT(*) as AnswersNumber, OwnerUserId\n",
    "FROM Posts\n",
    "WHERE PostTypeId = 2\n",
    "GROUP BY OwnerUserId\n",
    ") AS Answers\n",
    "JOIN\n",
    "(\n",
    "SELECT COUNT(*) as QuestionsNumber, OwnerUserId\n",
    "FROM Posts\n",
    "WHERE PostTypeId = 1\n",
    "GROUP BY OwnerUserId\n",
    ") AS Questions\n",
    "ON Answers.OwnerUserId = Questions.OwnerUserId\n",
    "WHERE AnswersNumber > QuestionsNumber\n",
    "ORDER BY AnswersNumber DESC\n",
    "LIMIT 5\n",
    ") AS PostsCounts\n",
    "JOIN Users\n",
    "ON PostsCounts.OwnerUserId = Users.Id\n",
    "'''\n",
    "sql_res = pd.read_sql_query(query, conn)"
   ]
  },
  {
   "cell_type": "code",
   "execution_count": 24,
   "outputs": [],
   "source": [
    "answers = posts[posts[\"PostTypeId\"] == 2].groupby(\"OwnerUserId\").agg(AnswersNumber=(\"Id\", \"count\")).reset_index()\n",
    "answers.columns = [\"Id\", \"AnswersNumber\"]\n",
    "questions = posts[posts[\"PostTypeId\"] == 1].groupby(\"OwnerUserId\").agg(QuestionsNumber=(\"Id\", \"count\")).reset_index()\n",
    "questions.columns = [\"Id\", \"QuestionsNumber\"]\n",
    "user_posts_counts = answers.merge(questions, on='Id')\n",
    "filtered_users = user_posts_counts[user_posts_counts['AnswersNumber'] > user_posts_counts['QuestionsNumber']]\n",
    "top_users = filtered_users.sort_values(by='AnswersNumber', ascending=False).head(5)\n",
    "top_users_data = top_users.merge(users, on='Id')\n",
    "result = top_users_data[['DisplayName', 'QuestionsNumber', 'AnswersNumber', 'Location', 'Reputation', 'UpVotes', 'DownVotes']]"
   ],
   "metadata": {
    "collapsed": false,
    "ExecuteTime": {
     "start_time": "2023-06-03T16:21:23.808128Z",
     "end_time": "2023-06-03T16:21:23.972678Z"
    }
   }
  },
  {
   "cell_type": "code",
   "execution_count": 26,
   "outputs": [
    {
     "name": "stdout",
     "output_type": "stream",
     "text": [
      "Dataframes are equal\n"
     ]
    }
   ],
   "source": [
    "comparator(sql_res, result)"
   ],
   "metadata": {
    "collapsed": false,
    "ExecuteTime": {
     "start_time": "2023-06-03T16:21:33.877532Z",
     "end_time": "2023-06-03T16:21:33.900433Z"
    }
   }
  },
  {
   "cell_type": "markdown",
   "metadata": {},
   "source": [
    "# Task 5"
   ]
  },
  {
   "cell_type": "code",
   "execution_count": null,
   "metadata": {
    "ExecuteTime": {
     "end_time": "2023-06-03T14:19:40.340877Z",
     "start_time": "2023-06-03T14:19:40.312880Z"
    },
    "collapsed": false,
    "jupyter": {
     "outputs_hidden": false
    }
   },
   "outputs": [],
   "source": [
    "query = '''\n",
    "SELECT Title, CommentCount, ViewCount, CommentsTotalScore, DisplayName, Reputation, Location\n",
    "FROM (\n",
    "SELECT Posts.OwnerUserId, Posts.Title, Posts.CommentCount, Posts.ViewCount,\n",
    "CmtTotScr.CommentsTotalScore\n",
    "FROM (\n",
    "SELECT PostId, SUM(Score) AS CommentsTotalScore\n",
    "FROM Comments\n",
    "GROUP BY PostId\n",
    ") AS CmtTotScr\n",
    "JOIN Posts ON Posts.Id = CmtTotScr.PostId\n",
    "WHERE Posts.PostTypeId=1\n",
    ") AS PostsBestComments\n",
    "JOIN Users ON PostsBestComments.OwnerUserId = Users.Id\n",
    "ORDER BY CommentsTotalScore DESC\n",
    "LIMIT 10\n",
    "'''\n",
    "sql_res = pd.read_sql_query(query, conn)"
   ]
  },
  {
   "cell_type": "code",
   "execution_count": 17,
   "metadata": {
    "collapsed": false,
    "jupyter": {
     "outputs_hidden": false
    },
    "ExecuteTime": {
     "start_time": "2023-06-03T16:28:53.805364Z",
     "end_time": "2023-06-03T16:28:53.988362Z"
    }
   },
   "outputs": [],
   "source": [
    "cmt_tot_scr = comments.groupby('PostId')['Score'].sum().reset_index()\n",
    "cmt_tot_scr.columns = ['PostId', 'CommentsTotalScore']\n",
    "posts_best_comments = cmt_tot_scr.merge(posts[posts['PostTypeId'] == 1], left_on='PostId', right_on='Id')\n",
    "posts_best_comments = posts_best_comments[['OwnerUserId', 'Title', 'CommentCount', 'ViewCount', 'CommentsTotalScore']]\n",
    "result = posts_best_comments.merge(users, left_on='OwnerUserId', right_on='Id')\n",
    "result = result[['Title', 'CommentCount', 'ViewCount', 'CommentsTotalScore', 'DisplayName', 'Reputation', 'Location']]\n",
    "\n",
    "result_limit = result.sort_values(by='CommentsTotalScore', ascending=False).head(10)\n",
    "result_limit = result_limit.reset_index(drop=True)"
   ]
  },
  {
   "cell_type": "code",
   "execution_count": null,
   "outputs": [],
   "source": [
    "comparator(sql_res, result_limit)"
   ],
   "metadata": {
    "collapsed": false
   }
  }
 ],
 "metadata": {
  "kernelspec": {
   "display_name": "Python 3 (ipykernel)",
   "language": "python",
   "name": "python3"
  },
  "language_info": {
   "codemirror_mode": {
    "name": "ipython",
    "version": 3
   },
   "file_extension": ".py",
   "mimetype": "text/x-python",
   "name": "python",
   "nbconvert_exporter": "python",
   "pygments_lexer": "ipython3",
   "version": "3.10.10"
  }
 },
 "nbformat": 4,
 "nbformat_minor": 4
}
