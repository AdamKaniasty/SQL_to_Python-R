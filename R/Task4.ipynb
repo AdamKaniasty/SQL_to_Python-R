{
 "cells": [
  {
   "cell_type": "markdown",
   "id": "e950614d-2aa8-4939-a3d9-87cae7c58ed2",
   "metadata": {},
   "source": [
    "## TASK 4"
   ]
  },
  {
   "cell_type": "code",
   "execution_count": 8,
   "id": "cfe85dee-f212-4766-81df-d87369f4cb62",
   "metadata": {},
   "outputs": [],
   "source": [
    "source(\"./Imports.R\")"
   ]
  },
  {
   "cell_type": "markdown",
   "id": "36abe7be-704a-42c0-9ac1-bd285f86a031",
   "metadata": {},
   "source": [
    "## Description\n",
    "Select 7 columns: DisplayName, QuestionsNumber, AnswersNumber, Location, Reputation, UpVotes, DownVotes from given PostsCounts table:  \n",
    "&nbsp;&nbsp;&nbsp;&nbsp;&nbsp;&nbsp;JOIN:  \n",
    "&nbsp;&nbsp;&nbsp;&nbsp;&nbsp;&nbsp;&nbsp;&nbsp;&nbsp;&nbsp;&nbsp;&nbsp;ALL from given Answers table:  \n",
    "&nbsp;&nbsp;&nbsp;&nbsp;&nbsp;&nbsp;&nbsp;&nbsp;&nbsp;&nbsp;&nbsp;&nbsp;&nbsp;&nbsp;&nbsp;&nbsp;&nbsp;&nbsp;AnswersNumber, OwnerUserId from table Posts  \n",
    "&nbsp;&nbsp;&nbsp;&nbsp;&nbsp;&nbsp;&nbsp;&nbsp;&nbsp;&nbsp;&nbsp;&nbsp;&nbsp;&nbsp;&nbsp;&nbsp;&nbsp;&nbsp;Takes only Posts where PostIdType is 2  \n",
    "&nbsp;&nbsp;&nbsp;&nbsp;&nbsp;&nbsp;&nbsp;&nbsp;&nbsp;&nbsp;&nbsp;&nbsp;&nbsp;&nbsp;&nbsp;&nbsp;&nbsp;&nbsp;Groups the output by OwnerUsedId  \n",
    "&nbsp;&nbsp;&nbsp;&nbsp;&nbsp;&nbsp;AND  \n",
    "&nbsp;&nbsp;&nbsp;&nbsp;&nbsp;&nbsp;&nbsp;&nbsp;&nbsp;&nbsp;&nbsp;&nbsp;ALL from given Questions table:  \n",
    "&nbsp;&nbsp;&nbsp;&nbsp;&nbsp;&nbsp;&nbsp;&nbsp;&nbsp;&nbsp;&nbsp;&nbsp;&nbsp;&nbsp;&nbsp;&nbsp;&nbsp;&nbsp;AnswersNumber, OwnerUserId from table Posts  \n",
    "&nbsp;&nbsp;&nbsp;&nbsp;&nbsp;&nbsp;&nbsp;&nbsp;&nbsp;&nbsp;&nbsp;&nbsp;&nbsp;&nbsp;&nbsp;&nbsp;&nbsp;&nbsp;Takes only Posts where PostIdType is 2  \n",
    "&nbsp;&nbsp;&nbsp;&nbsp;&nbsp;&nbsp;&nbsp;&nbsp;&nbsp;&nbsp;&nbsp;&nbsp;&nbsp;&nbsp;&nbsp;&nbsp;&nbsp;&nbsp;Groups the output by OwnerUsedId  \n",
    "&nbsp;&nbsp;&nbsp;&nbsp;&nbsp;&nbsp;ON ownerUserId field  \n",
    "&nbsp;&nbsp;&nbsp;&nbsp;&nbsp;&nbsp;Takes rows where AnswersNumber > QuestionsNumber  \n",
    "&nbsp;&nbsp;&nbsp;&nbsp;&nbsp;&nbsp;Sorts the data by AnswersNumber (Descending)  \n",
    "&nbsp;&nbsp;&nbsp;&nbsp;&nbsp;&nbsp;Takes first 5 outputs  \n",
    "Joins PostsCounts table and Users table by user id  \n",
    "\n",
    "### Effectively returns top 5 Users with highest AnswersNumber, but with lower QuestionsNumber that AnswersNumber\n"
   ]
  },
  {
   "cell_type": "code",
   "execution_count": 2,
   "id": "6ed1fdad-9e85-419b-8ec5-149d194f8486",
   "metadata": {},
   "outputs": [],
   "source": [
    "sql_4 <- function(Posts, Users) {\n",
    "  sqldf(\"SELECT DisplayName, QuestionsNumber, AnswersNumber, Location, Reputation, UpVotes, DownVotes\n",
    "        FROM (\n",
    "                SELECT *\n",
    "                FROM (\n",
    "                        SELECT COUNT(*) as AnswersNumber, OwnerUserId\n",
    "                        FROM Posts\n",
    "                        WHERE PostTypeId = 2\n",
    "                        GROUP BY OwnerUserId\n",
    "                    ) AS Answers\n",
    "                JOIN\n",
    "                    (\n",
    "                        SELECT COUNT(*) as QuestionsNumber, OwnerUserId\n",
    "                        FROM Posts\n",
    "                        WHERE PostTypeId = 1\n",
    "                        GROUP BY OwnerUserId\n",
    "                    ) AS Questions\n",
    "                ON Answers.OwnerUserId = Questions.OwnerUserId\n",
    "                WHERE AnswersNumber > QuestionsNumber\n",
    "                ORDER BY AnswersNumber DESC\n",
    "                LIMIT 5\n",
    "            ) AS PostsCounts\n",
    "        JOIN Users\n",
    "        ON PostsCounts.OwnerUserId = Users.Id\")\n",
    "}"
   ]
  },
  {
   "cell_type": "code",
   "execution_count": 3,
   "id": "b223416e-03f9-42e6-8c2d-1bf5c38b99f3",
   "metadata": {},
   "outputs": [],
   "source": [
    "base_4 <- function(Posts, Users) {\n",
    "    answers_count <- aggregate(Posts$Id[Posts$PostTypeId == 2], \n",
    "                               by = list(OwnerUserId = Posts$OwnerUserId[Posts$PostTypeId == 2]), \n",
    "                               FUN = length)\n",
    "    answers_count <- answers_count[order(c(2,1))]\n",
    "    colnames(answers_count) <- c(\"AnswersNumber\",\"OwnerUserId\")\n",
    "    questions_count <- aggregate(Posts$Id[Posts$PostTypeId == 1], \n",
    "                                 by = list(OwnerUserId = Posts$OwnerUserId[Posts$PostTypeId == 1]), \n",
    "                                 FUN = length)\n",
    "    questions_count <- questions_count[order(c(2,1))]\n",
    "    colnames(questions_count) <- c(\"QuestionsNumber\",\"OwnerUserId\")\n",
    "    merged_counts <- merge(answers_count, questions_count, by = \"OwnerUserId\")\n",
    "    merged_counts <- merged_counts[merged_counts$AnswersNumber > merged_counts$QuestionsNumber, ]\n",
    "    merged_counts_users <- merge(merged_counts, Users, by.x = \"OwnerUserId\", by.y = \"Id\")\n",
    "    result <- merged_counts_users[, c(\"DisplayName\", \"QuestionsNumber\", \"AnswersNumber\", \"Location\", \"Reputation\", \"UpVotes\", \"DownVotes\")]\n",
    "    result <- result[order(-result$AnswersNumber), ][1:5,]\n",
    "    return(result)\n",
    "}\n"
   ]
  },
  {
   "cell_type": "code",
   "execution_count": 4,
   "id": "24f46f74-f85d-47bb-9706-3a3797d811ee",
   "metadata": {},
   "outputs": [],
   "source": [
    "dplyr_4 <- function(Posts,Users){\n",
    "    PostsCounts <- Posts %>% \n",
    "    filter(PostTypeId == 2) %>% \n",
    "    group_by(OwnerUserId) %>% \n",
    "    summarise(AnswersNumber = n()) %>% \n",
    "    inner_join(Posts %>% \n",
    "                filter(PostTypeId == 1) %>% \n",
    "                group_by(OwnerUserId) %>% \n",
    "                summarise(QuestionsNumber = n()), by = \"OwnerUserId\") %>%\n",
    "    na.omit %>%\n",
    "    filter(AnswersNumber > QuestionsNumber) %>% \n",
    "    arrange(desc(AnswersNumber)) %>% \n",
    "    head(5) %>% \n",
    "    select(OwnerUserId, QuestionsNumber, AnswersNumber)\n",
    "    as.data.frame(\n",
    "        Users %>% \n",
    "            inner_join(PostsCounts, by = c(\"Id\" = \"OwnerUserId\")) %>% \n",
    "            select(DisplayName, QuestionsNumber, AnswersNumber, Location, Reputation, UpVotes, DownVotes)\n",
    "    )\n",
    "}"
   ]
  },
  {
   "cell_type": "code",
   "execution_count": 5,
   "id": "b54b0b94-3e8b-4251-8709-ec5ecc823203",
   "metadata": {},
   "outputs": [],
   "source": [
    "table_4 <- function(Posts,Users){\n",
    "    setDT(Posts)\n",
    "    setDT(Users)\n",
    "    answers_df <- Posts[PostTypeId == 2, .(AnswersNumber = .N), by = OwnerUserId]\n",
    "    questions_df <- Posts[PostTypeId == 1, .(QuestionsNumber = .N), by = OwnerUserId]\n",
    "    merged_df <- na.omit(merge(answers_df,questions_df))\n",
    "    merge(merged_df[AnswersNumber > QuestionsNumber][order(-AnswersNumber)][1:5], Users,by.x = \"OwnerUserId\", by.y = \"Id\")[,.(DisplayName, QuestionsNumber, AnswersNumber, Location, Reputation, UpVotes, DownVotes)]\n",
    "}"
   ]
  },
  {
   "cell_type": "code",
   "execution_count": 6,
   "id": "22fdad37-af92-40a3-abe1-bb608b2151ea",
   "metadata": {},
   "outputs": [
    {
     "name": "stdout",
     "output_type": "stream",
     "text": [
      "[1] \"COMPARING GIVEN OUTPUTS TO SQL ONE: \"\n",
      "[1] \"BASE: TRUE\"\n",
      "[1] \"DPLYR: TRUE  permuted\"\n",
      "[1] \"TABLE: TRUE  permuted\"\n"
     ]
    }
   ],
   "source": [
    "comp(\n",
    "    sql_4(Posts,Users),\n",
    "    base_4(Posts, Users),\n",
    "    dplyr_4(Posts, Users),\n",
    "    table_4(Posts, Users)\n",
    ")"
   ]
  },
  {
   "cell_type": "code",
   "execution_count": 7,
   "id": "8ead173b-50e0-466b-9c37-fda825b63a83",
   "metadata": {},
   "outputs": [
    {
     "data": {
      "text/html": [
       "<table class=\"dataframe\">\n",
       "<caption>A data.table: 5 × 7</caption>\n",
       "<thead>\n",
       "\t<tr><th scope=col>DisplayName</th><th scope=col>QuestionsNumber</th><th scope=col>AnswersNumber</th><th scope=col>Location</th><th scope=col>Reputation</th><th scope=col>UpVotes</th><th scope=col>DownVotes</th></tr>\n",
       "\t<tr><th scope=col>&lt;chr&gt;</th><th scope=col>&lt;int&gt;</th><th scope=col>&lt;int&gt;</th><th scope=col>&lt;chr&gt;</th><th scope=col>&lt;int&gt;</th><th scope=col>&lt;int&gt;</th><th scope=col>&lt;int&gt;</th></tr>\n",
       "</thead>\n",
       "<tbody>\n",
       "\t<tr><td>Mark Mayo  </td><td>342</td><td>1950</td><td>Christchurch, New Zealand</td><td>153872</td><td>15817</td><td>1613</td></tr>\n",
       "\t<tr><td>lambshaanxy</td><td>104</td><td>1394</td><td>                         </td><td> 99487</td><td>13629</td><td> 253</td></tr>\n",
       "\t<tr><td>Relaxed    </td><td>  8</td><td>1414</td><td>                         </td><td> 91865</td><td>10911</td><td> 570</td></tr>\n",
       "\t<tr><td>phoog      </td><td> 12</td><td>1602</td><td>New York, NY             </td><td>111746</td><td> 8212</td><td> 529</td></tr>\n",
       "\t<tr><td>Crazydre   </td><td>171</td><td>1163</td><td>                         </td><td> 72332</td><td> 2259</td><td> 132</td></tr>\n",
       "</tbody>\n",
       "</table>\n"
      ],
      "text/latex": [
       "A data.table: 5 × 7\n",
       "\\begin{tabular}{lllllll}\n",
       " DisplayName & QuestionsNumber & AnswersNumber & Location & Reputation & UpVotes & DownVotes\\\\\n",
       " <chr> & <int> & <int> & <chr> & <int> & <int> & <int>\\\\\n",
       "\\hline\n",
       "\t Mark Mayo   & 342 & 1950 & Christchurch, New Zealand & 153872 & 15817 & 1613\\\\\n",
       "\t lambshaanxy & 104 & 1394 &                           &  99487 & 13629 &  253\\\\\n",
       "\t Relaxed     &   8 & 1414 &                           &  91865 & 10911 &  570\\\\\n",
       "\t phoog       &  12 & 1602 & New York, NY              & 111746 &  8212 &  529\\\\\n",
       "\t Crazydre    & 171 & 1163 &                           &  72332 &  2259 &  132\\\\\n",
       "\\end{tabular}\n"
      ],
      "text/markdown": [
       "\n",
       "A data.table: 5 × 7\n",
       "\n",
       "| DisplayName &lt;chr&gt; | QuestionsNumber &lt;int&gt; | AnswersNumber &lt;int&gt; | Location &lt;chr&gt; | Reputation &lt;int&gt; | UpVotes &lt;int&gt; | DownVotes &lt;int&gt; |\n",
       "|---|---|---|---|---|---|---|\n",
       "| Mark Mayo   | 342 | 1950 | Christchurch, New Zealand | 153872 | 15817 | 1613 |\n",
       "| lambshaanxy | 104 | 1394 | <!----> |  99487 | 13629 |  253 |\n",
       "| Relaxed     |   8 | 1414 | <!----> |  91865 | 10911 |  570 |\n",
       "| phoog       |  12 | 1602 | New York, NY              | 111746 |  8212 |  529 |\n",
       "| Crazydre    | 171 | 1163 | <!----> |  72332 |  2259 |  132 |\n",
       "\n"
      ],
      "text/plain": [
       "  DisplayName QuestionsNumber AnswersNumber Location                 \n",
       "1 Mark Mayo   342             1950          Christchurch, New Zealand\n",
       "2 lambshaanxy 104             1394                                   \n",
       "3 Relaxed       8             1414                                   \n",
       "4 phoog        12             1602          New York, NY             \n",
       "5 Crazydre    171             1163                                   \n",
       "  Reputation UpVotes DownVotes\n",
       "1 153872     15817   1613     \n",
       "2  99487     13629    253     \n",
       "3  91865     10911    570     \n",
       "4 111746      8212    529     \n",
       "5  72332      2259    132     "
      ]
     },
     "metadata": {},
     "output_type": "display_data"
    }
   ],
   "source": [
    "table_4(Posts, Users)"
   ]
  },
  {
   "cell_type": "code",
   "execution_count": null,
   "id": "a97014d2-f81e-4132-9c49-7ee301166556",
   "metadata": {},
   "outputs": [],
   "source": []
  }
 ],
 "metadata": {
  "kernelspec": {
   "display_name": "R",
   "language": "R",
   "name": "ir"
  },
  "language_info": {
   "codemirror_mode": "r",
   "file_extension": ".r",
   "mimetype": "text/x-r-source",
   "name": "R",
   "pygments_lexer": "r",
   "version": "4.1.2"
  }
 },
 "nbformat": 4,
 "nbformat_minor": 5
}
