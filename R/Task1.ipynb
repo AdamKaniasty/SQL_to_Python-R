{
 "cells": [
  {
   "cell_type": "markdown",
   "id": "e950614d-2aa8-4939-a3d9-87cae7c58ed2",
   "metadata": {},
   "source": [
    "## TASK 1"
   ]
  },
  {
   "cell_type": "code",
   "execution_count": null,
   "id": "cc6164d5-c42a-4a2c-b3a0-47b08b375ef8",
   "metadata": {},
   "outputs": [],
   "source": [
    "source(\"./Imports.R\")"
   ]
  },
  {
   "cell_type": "markdown",
   "id": "fabb9523-e202-4257-ace6-df354c0af906",
   "metadata": {},
   "source": [
    "### Selects 10 most voted locations from table Users with their vote Counts"
   ]
  },
  {
   "cell_type": "code",
   "execution_count": 33,
   "id": "6ed1fdad-9e85-419b-8ec5-149d194f8486",
   "metadata": {},
   "outputs": [],
   "source": [
    "sql_1 <- function(Users){\n",
    "    sqldf(\"SELECT Location, SUM(UpVotes) as TotalUpVotes \n",
    "        FROM Users\n",
    "        WHERE Location != ''\n",
    "        GROUP BY Location\n",
    "        ORDER BY TotalUpVotes DESC\n",
    "        LIMIT 10\")\n",
    "}"
   ]
  },
  {
   "cell_type": "code",
   "execution_count": 34,
   "id": "b223416e-03f9-42e6-8c2d-1bf5c38b99f3",
   "metadata": {},
   "outputs": [],
   "source": [
    "base_1 <- function(Users){\n",
    "    users_with_location_filter <- subset(Users, Location != \"\")\n",
    "    locations_agg <- aggregate(UpVotes ~ Location, data = users_with_location_filter, sum)\n",
    "    locations_sorted <- locations_agg[order(locations_agg$UpVotes, decreasing = TRUE),]\n",
    "    location_head <- head(locations_sorted, 10)\n",
    "    colnames(location_head)[2] <- \"TotalUpVotes\"\n",
    "    return(location_head)\n",
    "}"
   ]
  },
  {
   "cell_type": "code",
   "execution_count": 35,
   "id": "24f46f74-f85d-47bb-9706-3a3797d811ee",
   "metadata": {},
   "outputs": [],
   "source": [
    "dplyr_1 <- function(Users) {\n",
    "    as.data.frame(\n",
    "        Users %>%\n",
    "            filter(Location != \"\") %>%\n",
    "            group_by(Location) %>%\n",
    "            summarize(TotalUpVotes = sum(UpVotes)) %>%\n",
    "            arrange(desc(TotalUpVotes)) %>%\n",
    "            head(10)\n",
    "    )\n",
    "}"
   ]
  },
  {
   "cell_type": "code",
   "execution_count": 36,
   "id": "b54b0b94-3e8b-4251-8709-ec5ecc823203",
   "metadata": {},
   "outputs": [],
   "source": [
    "table_1 <- function(Users) {\n",
    "    setDT(Users)\n",
    "    as.data.frame(\n",
    "        Users[\n",
    "            Location != \"\",\n",
    "            .(TotalUpVotes = sum(UpVotes)),\n",
    "            by = Location][order(-TotalUpVotes)][1:10]\n",
    "    )\n",
    "}"
   ]
  },
  {
   "cell_type": "code",
   "execution_count": 37,
   "id": "22fdad37-af92-40a3-abe1-bb608b2151ea",
   "metadata": {},
   "outputs": [
    {
     "name": "stdout",
     "output_type": "stream",
     "text": [
      "[1] \"COMPARING GIVEN OUTPUTS TO SQL ONE: \"\n",
      "[1] \"BASE: TRUE\"\n",
      "[1] \"DPLYR: TRUE\"\n",
      "[1] \"TABLE: TRUE\"\n"
     ]
    }
   ],
   "source": [
    "comp(\n",
    "    sql_1(Users),\n",
    "    base_1(Users),\n",
    "    dplyr_1(Users),\n",
    "    table_1(Users)\n",
    ")"
   ]
  },
  {
   "cell_type": "code",
   "execution_count": 38,
   "id": "8ead173b-50e0-466b-9c37-fda825b63a83",
   "metadata": {},
   "outputs": [
    {
     "data": {
      "text/html": [
       "<table class=\"dataframe\">\n",
       "<caption>A data.frame: 10 × 2</caption>\n",
       "<thead>\n",
       "\t<tr><th scope=col>Location</th><th scope=col>TotalUpVotes</th></tr>\n",
       "\t<tr><th scope=col>&lt;chr&gt;</th><th scope=col>&lt;int&gt;</th></tr>\n",
       "</thead>\n",
       "<tbody>\n",
       "\t<tr><td>London, UK               </td><td>26206</td></tr>\n",
       "\t<tr><td>Netherlands              </td><td>24146</td></tr>\n",
       "\t<tr><td>London, United Kingdom   </td><td>21941</td></tr>\n",
       "\t<tr><td>Oxford, United Kingdom   </td><td>20158</td></tr>\n",
       "\t<tr><td>Christchurch, New Zealand</td><td>16352</td></tr>\n",
       "\t<tr><td>UK                       </td><td>10967</td></tr>\n",
       "\t<tr><td>New York, NY             </td><td> 9126</td></tr>\n",
       "\t<tr><td>Singapore                </td><td> 8905</td></tr>\n",
       "\t<tr><td>Cambridge, United Kingdom</td><td> 8550</td></tr>\n",
       "\t<tr><td>Australia                </td><td> 8396</td></tr>\n",
       "</tbody>\n",
       "</table>\n"
      ],
      "text/latex": [
       "A data.frame: 10 × 2\n",
       "\\begin{tabular}{ll}\n",
       " Location & TotalUpVotes\\\\\n",
       " <chr> & <int>\\\\\n",
       "\\hline\n",
       "\t London, UK                & 26206\\\\\n",
       "\t Netherlands               & 24146\\\\\n",
       "\t London, United Kingdom    & 21941\\\\\n",
       "\t Oxford, United Kingdom    & 20158\\\\\n",
       "\t Christchurch, New Zealand & 16352\\\\\n",
       "\t UK                        & 10967\\\\\n",
       "\t New York, NY              &  9126\\\\\n",
       "\t Singapore                 &  8905\\\\\n",
       "\t Cambridge, United Kingdom &  8550\\\\\n",
       "\t Australia                 &  8396\\\\\n",
       "\\end{tabular}\n"
      ],
      "text/markdown": [
       "\n",
       "A data.frame: 10 × 2\n",
       "\n",
       "| Location &lt;chr&gt; | TotalUpVotes &lt;int&gt; |\n",
       "|---|---|\n",
       "| London, UK                | 26206 |\n",
       "| Netherlands               | 24146 |\n",
       "| London, United Kingdom    | 21941 |\n",
       "| Oxford, United Kingdom    | 20158 |\n",
       "| Christchurch, New Zealand | 16352 |\n",
       "| UK                        | 10967 |\n",
       "| New York, NY              |  9126 |\n",
       "| Singapore                 |  8905 |\n",
       "| Cambridge, United Kingdom |  8550 |\n",
       "| Australia                 |  8396 |\n",
       "\n"
      ],
      "text/plain": [
       "   Location                  TotalUpVotes\n",
       "1  London, UK                26206       \n",
       "2  Netherlands               24146       \n",
       "3  London, United Kingdom    21941       \n",
       "4  Oxford, United Kingdom    20158       \n",
       "5  Christchurch, New Zealand 16352       \n",
       "6  UK                        10967       \n",
       "7  New York, NY               9126       \n",
       "8  Singapore                  8905       \n",
       "9  Cambridge, United Kingdom  8550       \n",
       "10 Australia                  8396       "
      ]
     },
     "metadata": {},
     "output_type": "display_data"
    }
   ],
   "source": [
    "table_1(Users)"
   ]
  }
 ],
 "metadata": {
  "kernelspec": {
   "display_name": "R",
   "language": "R",
   "name": "ir"
  },
  "language_info": {
   "codemirror_mode": "r",
   "file_extension": ".r",
   "mimetype": "text/x-r-source",
   "name": "R",
   "pygments_lexer": "r",
   "version": "4.1.2"
  }
 },
 "nbformat": 4,
 "nbformat_minor": 5
}
