{
 "cells": [
  {
   "cell_type": "markdown",
   "id": "e950614d-2aa8-4939-a3d9-87cae7c58ed2",
   "metadata": {},
   "source": [
    "## TASK 5"
   ]
  },
  {
   "cell_type": "code",
   "execution_count": 5,
   "id": "cc6164d5-c42a-4a2c-b3a0-47b08b375ef8",
   "metadata": {},
   "outputs": [],
   "source": [
    "source(\"./Imports.R\")"
   ]
  },
  {
   "cell_type": "markdown",
   "id": "8b675731-1961-4b34-8739-3d2e0996bc6e",
   "metadata": {},
   "source": [
    "## Description\n",
    "Select 7 columns: Title, CommentCount, ViewCount, CommentsTotalScore, DisplayName, Reputation, Location from given PostsBestComments table:  \n",
    "&nbsp;&nbsp;&nbsp;&nbsp;&nbsp;&nbsp;OwnerUserId, Title, CommentCount, ViewCount, CommentsTotalScore from given CmtToScr table:  \n",
    "&nbsp;&nbsp;&nbsp;&nbsp;&nbsp;&nbsp;&nbsp;&nbsp;&nbsp;&nbsp;&nbsp;&nbsp;PostId, CommentsTotalScore from Comments  \n",
    "&nbsp;&nbsp;&nbsp;&nbsp;&nbsp;&nbsp;&nbsp;&nbsp;&nbsp;&nbsp;&nbsp;&nbsp;CommentsTotalScore is sum of Score  \n",
    "&nbsp;&nbsp;&nbsp;&nbsp;&nbsp;&nbsp;&nbsp;&nbsp;&nbsp;&nbsp;&nbsp;&nbsp;Grouped by PostId  \n",
    "Joins PostsBestComments table and Users table by user id  \n",
    "Orders by CommentsTotalScore (descending)  \n",
    "Takes 10 first results  \n",
    "### Effectively returns top 10 Users with highest CommentsTotalScore\n"
   ]
  },
  {
   "cell_type": "code",
   "execution_count": 6,
   "id": "6ed1fdad-9e85-419b-8ec5-149d194f8486",
   "metadata": {},
   "outputs": [],
   "source": [
    "sql_5 <- function(Posts, Comments, Users){\n",
    "  sqldf(\"SELECT Title, CommentCount, ViewCount, CommentsTotalScore, DisplayName, Reputation, Location\n",
    "        FROM (\n",
    "            SELECT Posts.OwnerUserId, Posts.Title, Posts.CommentCount, Posts.ViewCount,CmtTotScr.CommentsTotalScore\n",
    "            FROM (\n",
    "                SELECT PostId, SUM(Score) AS CommentsTotalScore\n",
    "                FROM Comments\n",
    "                GROUP BY PostId\n",
    "                ) AS CmtTotScr\n",
    "            JOIN Posts ON Posts.Id = CmtTotScr.PostId\n",
    "            WHERE Posts.PostTypeId=1\n",
    "        ) AS PostsBestComments\n",
    "    JOIN Users ON PostsBestComments.OwnerUserId = Users.Id\n",
    "    ORDER BY CommentsTotalScore DESC\n",
    "    LIMIT 10\n",
    "  \")\n",
    "}"
   ]
  },
  {
   "cell_type": "code",
   "execution_count": 7,
   "id": "b223416e-03f9-42e6-8c2d-1bf5c38b99f3",
   "metadata": {},
   "outputs": [],
   "source": [
    "base_5 <- function(Posts,Comments,Users) {\n",
    "  cmtTotScr <- aggregate(Comments$Score ~ Comments$PostId, data = Comments, sum)\n",
    "  names(cmtTotScr) <- c(\"PostId\", \"CommentsTotalScore\")\n",
    "  postsBestCmt <- merge(Posts[Posts$PostTypeId == 1,], cmtTotScr, by.x = \"Id\", by.y = \"PostId\")\n",
    "  result <- merge(postsBestCmt, Users, by.x = \"OwnerUserId\", by.y = \"Id\")\n",
    "    \n",
    "  result <- result[order(-result$CommentsTotalScore), ]\n",
    "  result <- result[1:10, c(\"Title\", \"CommentCount\", \"ViewCount\", \"CommentsTotalScore\", \n",
    "                              \"DisplayName\", \"Reputation\", \"Location\")]\n",
    "  return(result)\n",
    "}"
   ]
  },
  {
   "cell_type": "code",
   "execution_count": 8,
   "id": "24f46f74-f85d-47bb-9706-3a3797d811ee",
   "metadata": {},
   "outputs": [],
   "source": [
    "dplyr_5 <- function(Posts, Comments, Users){\n",
    "  postsBestComments <- Comments %>%\n",
    "    group_by(PostId) %>%\n",
    "    summarise(CommentsTotalScore = sum(Score)) %>%\n",
    "    inner_join(Posts %>% \n",
    "                 filter(PostTypeId == 1),by = c(\"PostId\" = \"Id\"))\n",
    "  Users %>% \n",
    "    inner_join(postsBestComments, by = c(\"Id\" = \"OwnerUserId\")) %>%\n",
    "    arrange(desc(CommentsTotalScore)) %>%\n",
    "    head(10) %>%\n",
    "    select(Title, CommentCount, ViewCount, CommentsTotalScore, DisplayName, Reputation, Location)\n",
    "    \n",
    "}"
   ]
  },
  {
   "cell_type": "code",
   "execution_count": 9,
   "id": "b54b0b94-3e8b-4251-8709-ec5ecc823203",
   "metadata": {},
   "outputs": [],
   "source": [
    "table_5 <- function(Posts, Comments, Users){\n",
    "  setDT(Posts)\n",
    "  setDT(Users)    \n",
    "  setDT(Comments)\n",
    "  \n",
    "  cmtTotScr <- Comments[, .(CommentsTotalScore = sum(Score)), by = PostId]\n",
    "  PostsBestComments <- merge(Posts[PostTypeId == 1], cmtTotScr, by.x = \"Id\", by.y = \"PostId\")\n",
    "  merge(PostsBestComments, Users, by.x = \"OwnerUserId\", by.y = \"Id\")[order(-CommentsTotalScore)][1:10][,.(Title, CommentCount, ViewCount, CommentsTotalScore, DisplayName, Reputation, Location)]\n",
    "  \n",
    "}"
   ]
  },
  {
   "cell_type": "code",
   "execution_count": 10,
   "id": "22fdad37-af92-40a3-abe1-bb608b2151ea",
   "metadata": {},
   "outputs": [
    {
     "name": "stdout",
     "output_type": "stream",
     "text": [
      "[1] \"COMPARING GIVEN OUTPUTS TO SQL ONE: \"\n",
      "[1] \"BASE: TRUE\"\n",
      "[1] \"DPLYR: TRUE\"\n",
      "[1] \"TABLE: TRUE\"\n"
     ]
    }
   ],
   "source": [
    "comp(\n",
    "    sql_5(Posts,Comments,Users),\n",
    "    base_5(Posts,Comments,Users),\n",
    "    dplyr_5(Posts,Comments,Users),\n",
    "    table_5(Posts,Comments,Users)\n",
    ")"
   ]
  },
  {
   "cell_type": "code",
   "execution_count": 11,
   "id": "8ead173b-50e0-466b-9c37-fda825b63a83",
   "metadata": {},
   "outputs": [
    {
     "data": {
      "text/html": [
       "<table class=\"dataframe\">\n",
       "<caption>A data.table: 10 × 7</caption>\n",
       "<thead>\n",
       "\t<tr><th scope=col>Title</th><th scope=col>CommentCount</th><th scope=col>ViewCount</th><th scope=col>CommentsTotalScore</th><th scope=col>DisplayName</th><th scope=col>Reputation</th><th scope=col>Location</th></tr>\n",
       "\t<tr><th scope=col>&lt;chr&gt;</th><th scope=col>&lt;int&gt;</th><th scope=col>&lt;int&gt;</th><th scope=col>&lt;int&gt;</th><th scope=col>&lt;chr&gt;</th><th scope=col>&lt;int&gt;</th><th scope=col>&lt;chr&gt;</th></tr>\n",
       "</thead>\n",
       "<tbody>\n",
       "\t<tr><td>Boss is asking for passport, but it has a stamp in it I don't want him to see. What to do?</td><td>24</td><td> 60532</td><td>623</td><td>Megha        </td><td> 1639</td><td>                             </td></tr>\n",
       "\t<tr><td>How to intentionally get denied entry to the US, without getting into trouble?            </td><td>37</td><td> 71829</td><td>601</td><td>user11743    </td><td> 1947</td><td>                             </td></tr>\n",
       "\t<tr><td>Can I wear a bulletproof vest while traveling on British Airways from Heathrow?           </td><td>26</td><td> 22958</td><td>401</td><td>Ulkoma       </td><td> 8413</td><td>London, United Kingdom       </td></tr>\n",
       "\t<tr><td>OK we're all adults here, so really, how on earth should I use a squat toilet?            </td><td>29</td><td>107591</td><td>380</td><td>hippietrail  </td><td>74614</td><td>Sunshine Coast QLD, Australia</td></tr>\n",
       "\t<tr><td>Being separated from one's young children on a flight                                     </td><td>36</td><td> 13974</td><td>358</td><td>Emma-louise  </td><td>  611</td><td>                             </td></tr>\n",
       "\t<tr><td>Immigration officer that stopped me at the airport is texting me. What do I do?           </td><td>24</td><td> 21808</td><td>345</td><td>DiegoJ       </td><td> 1243</td><td>Buenos Aires                 </td></tr>\n",
       "\t<tr><td>How to avoid toddlers on a long-distance plane flight?                                    </td><td>18</td><td> 28968</td><td>342</td><td>Silver Dragon</td><td>  933</td><td>San Francisco, United States </td></tr>\n",
       "\t<tr><td>How to book a flight if my passport doesn't state my gender?                              </td><td>23</td><td> 17614</td><td>329</td><td>kukis        </td><td>  894</td><td>Sztokholm, Szwecja           </td></tr>\n",
       "\t<tr><td>Why don't airlines have backup planes just in case of an emergency?                       </td><td>26</td><td> 18365</td><td>328</td><td>clickbait    </td><td>  532</td><td>                             </td></tr>\n",
       "\t<tr><td>Can I fly with a gold bar?                                                                </td><td>25</td><td> 53252</td><td>322</td><td>Ulkoma       </td><td> 8413</td><td>London, United Kingdom       </td></tr>\n",
       "</tbody>\n",
       "</table>\n"
      ],
      "text/latex": [
       "A data.table: 10 × 7\n",
       "\\begin{tabular}{lllllll}\n",
       " Title & CommentCount & ViewCount & CommentsTotalScore & DisplayName & Reputation & Location\\\\\n",
       " <chr> & <int> & <int> & <int> & <chr> & <int> & <chr>\\\\\n",
       "\\hline\n",
       "\t Boss is asking for passport, but it has a stamp in it I don't want him to see. What to do? & 24 &  60532 & 623 & Megha         &  1639 &                              \\\\\n",
       "\t How to intentionally get denied entry to the US, without getting into trouble?             & 37 &  71829 & 601 & user11743     &  1947 &                              \\\\\n",
       "\t Can I wear a bulletproof vest while traveling on British Airways from Heathrow?            & 26 &  22958 & 401 & Ulkoma        &  8413 & London, United Kingdom       \\\\\n",
       "\t OK we're all adults here, so really, how on earth should I use a squat toilet?             & 29 & 107591 & 380 & hippietrail   & 74614 & Sunshine Coast QLD, Australia\\\\\n",
       "\t Being separated from one's young children on a flight                                      & 36 &  13974 & 358 & Emma-louise   &   611 &                              \\\\\n",
       "\t Immigration officer that stopped me at the airport is texting me. What do I do?            & 24 &  21808 & 345 & DiegoJ        &  1243 & Buenos Aires                 \\\\\n",
       "\t How to avoid toddlers on a long-distance plane flight?                                     & 18 &  28968 & 342 & Silver Dragon &   933 & San Francisco, United States \\\\\n",
       "\t How to book a flight if my passport doesn't state my gender?                               & 23 &  17614 & 329 & kukis         &   894 & Sztokholm, Szwecja           \\\\\n",
       "\t Why don't airlines have backup planes just in case of an emergency?                        & 26 &  18365 & 328 & clickbait     &   532 &                              \\\\\n",
       "\t Can I fly with a gold bar?                                                                 & 25 &  53252 & 322 & Ulkoma        &  8413 & London, United Kingdom       \\\\\n",
       "\\end{tabular}\n"
      ],
      "text/markdown": [
       "\n",
       "A data.table: 10 × 7\n",
       "\n",
       "| Title &lt;chr&gt; | CommentCount &lt;int&gt; | ViewCount &lt;int&gt; | CommentsTotalScore &lt;int&gt; | DisplayName &lt;chr&gt; | Reputation &lt;int&gt; | Location &lt;chr&gt; |\n",
       "|---|---|---|---|---|---|---|\n",
       "| Boss is asking for passport, but it has a stamp in it I don't want him to see. What to do? | 24 |  60532 | 623 | Megha         |  1639 | <!----> |\n",
       "| How to intentionally get denied entry to the US, without getting into trouble?             | 37 |  71829 | 601 | user11743     |  1947 | <!----> |\n",
       "| Can I wear a bulletproof vest while traveling on British Airways from Heathrow?            | 26 |  22958 | 401 | Ulkoma        |  8413 | London, United Kingdom        |\n",
       "| OK we're all adults here, so really, how on earth should I use a squat toilet?             | 29 | 107591 | 380 | hippietrail   | 74614 | Sunshine Coast QLD, Australia |\n",
       "| Being separated from one's young children on a flight                                      | 36 |  13974 | 358 | Emma-louise   |   611 | <!----> |\n",
       "| Immigration officer that stopped me at the airport is texting me. What do I do?            | 24 |  21808 | 345 | DiegoJ        |  1243 | Buenos Aires                  |\n",
       "| How to avoid toddlers on a long-distance plane flight?                                     | 18 |  28968 | 342 | Silver Dragon |   933 | San Francisco, United States  |\n",
       "| How to book a flight if my passport doesn't state my gender?                               | 23 |  17614 | 329 | kukis         |   894 | Sztokholm, Szwecja            |\n",
       "| Why don't airlines have backup planes just in case of an emergency?                        | 26 |  18365 | 328 | clickbait     |   532 | <!----> |\n",
       "| Can I fly with a gold bar?                                                                 | 25 |  53252 | 322 | Ulkoma        |  8413 | London, United Kingdom        |\n",
       "\n"
      ],
      "text/plain": [
       "   Title                                                                                     \n",
       "1  Boss is asking for passport, but it has a stamp in it I don't want him to see. What to do?\n",
       "2  How to intentionally get denied entry to the US, without getting into trouble?            \n",
       "3  Can I wear a bulletproof vest while traveling on British Airways from Heathrow?           \n",
       "4  OK we're all adults here, so really, how on earth should I use a squat toilet?            \n",
       "5  Being separated from one's young children on a flight                                     \n",
       "6  Immigration officer that stopped me at the airport is texting me. What do I do?           \n",
       "7  How to avoid toddlers on a long-distance plane flight?                                    \n",
       "8  How to book a flight if my passport doesn't state my gender?                              \n",
       "9  Why don't airlines have backup planes just in case of an emergency?                       \n",
       "10 Can I fly with a gold bar?                                                                \n",
       "   CommentCount ViewCount CommentsTotalScore DisplayName   Reputation\n",
       "1  24            60532    623                Megha          1639     \n",
       "2  37            71829    601                user11743      1947     \n",
       "3  26            22958    401                Ulkoma         8413     \n",
       "4  29           107591    380                hippietrail   74614     \n",
       "5  36            13974    358                Emma-louise     611     \n",
       "6  24            21808    345                DiegoJ         1243     \n",
       "7  18            28968    342                Silver Dragon   933     \n",
       "8  23            17614    329                kukis           894     \n",
       "9  26            18365    328                clickbait       532     \n",
       "10 25            53252    322                Ulkoma         8413     \n",
       "   Location                     \n",
       "1                               \n",
       "2                               \n",
       "3  London, United Kingdom       \n",
       "4  Sunshine Coast QLD, Australia\n",
       "5                               \n",
       "6  Buenos Aires                 \n",
       "7  San Francisco, United States \n",
       "8  Sztokholm, Szwecja           \n",
       "9                               \n",
       "10 London, United Kingdom       "
      ]
     },
     "metadata": {},
     "output_type": "display_data"
    }
   ],
   "source": [
    "table_5(Posts,Comments,Users)"
   ]
  }
 ],
 "metadata": {
  "kernelspec": {
   "display_name": "R",
   "language": "R",
   "name": "ir"
  },
  "language_info": {
   "codemirror_mode": "r",
   "file_extension": ".r",
   "mimetype": "text/x-r-source",
   "name": "R",
   "pygments_lexer": "r",
   "version": "4.1.2"
  }
 },
 "nbformat": 4,
 "nbformat_minor": 5
}
